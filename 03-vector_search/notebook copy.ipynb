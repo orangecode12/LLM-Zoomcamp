{
 "cells": [
  {
   "cell_type": "markdown",
   "metadata": {},
   "source": [
    "Homework 3: Vector Search\n",
    "\n",
    "In this homework, we'll experiemnt with vector with and without Elasticsearch"
   ]
  },
  {
   "cell_type": "code",
   "execution_count": 2,
   "metadata": {},
   "outputs": [],
   "source": [
    "from sentence_transformers import SentenceTransformer\n",
    "\n",
    "model_name = 'multi-qa-distilbert-cos-v1'\n",
    "embedding_model = SentenceTransformer(model_name)"
   ]
  },
  {
   "cell_type": "code",
   "execution_count": 4,
   "metadata": {},
   "outputs": [],
   "source": [
    "user_question = \"I just discovered the course. Can I still join it?\""
   ]
  },
  {
   "cell_type": "code",
   "execution_count": 5,
   "metadata": {},
   "outputs": [
    {
     "data": {
      "text/plain": [
       "array([ 7.82226175e-02, -4.01311480e-02,  3.86136174e-02, -1.78979419e-04,\n",
       "        8.92346054e-02, -5.04591353e-02, -1.05027072e-02,  3.71056125e-02,\n",
       "       -4.18713838e-02,  3.48085277e-02, -1.20701995e-02, -2.36942172e-02,\n",
       "        3.87899689e-02,  1.60988104e-02,  3.50747332e-02,  3.04757687e-03,\n",
       "        5.79672195e-02, -4.10627648e-02, -3.41552906e-02, -2.56396793e-02,\n",
       "       -3.55264321e-02,  1.42908283e-02, -1.62800662e-02,  3.21446136e-02,\n",
       "       -4.66897637e-02,  7.89186060e-02,  4.90160808e-02,  1.56760961e-02,\n",
       "       -1.69110000e-02,  2.26482209e-02,  5.60205802e-02, -3.98361497e-02,\n",
       "        6.77409470e-02, -1.20210163e-02,  1.12619717e-03, -1.94394737e-02,\n",
       "       -2.65951362e-02,  1.06178075e-02,  1.69687793e-02,  1.13488315e-02,\n",
       "       -2.97062900e-02,  5.25258556e-02, -1.41453119e-02,  4.61699925e-02,\n",
       "        1.17066409e-02, -2.38052960e-02, -6.32557943e-02, -1.92041676e-02,\n",
       "       -7.10593350e-03,  3.24167535e-02,  2.49618571e-02, -5.27498079e-03,\n",
       "        2.01149583e-02, -3.72370444e-02,  3.46405022e-02, -3.29310261e-02,\n",
       "       -2.01484095e-02,  5.07842097e-03, -4.55506630e-02,  7.89170526e-03,\n",
       "       -4.91713695e-02,  4.69897687e-02, -3.74482102e-06,  2.48839501e-02,\n",
       "       -2.96471100e-02,  6.69758487e-03,  3.58087830e-02, -7.18093524e-03,\n",
       "       -3.03277150e-02,  7.95785524e-03,  3.36150154e-02, -2.25490946e-02,\n",
       "       -3.62097658e-02, -2.03928966e-02, -2.70677917e-03, -8.15982446e-02,\n",
       "       -1.43992305e-02,  4.90568914e-02, -2.11568736e-02,  9.31627408e-04,\n",
       "        6.57264665e-02,  4.69609872e-02,  1.23655153e-02, -2.84593459e-02,\n",
       "       -2.57529151e-02,  1.46925803e-02, -5.53987361e-02, -3.05970311e-02,\n",
       "        5.75574189e-02,  2.81941649e-02, -1.30107673e-02, -2.08615456e-02,\n",
       "       -2.43033860e-02, -2.40275655e-02,  4.11576815e-02, -5.92422523e-02,\n",
       "       -1.69005303e-03,  4.00551818e-02,  2.43852660e-02, -1.10904956e-02,\n",
       "       -2.93892045e-02,  2.01826077e-02,  4.22842056e-03,  2.95343604e-02,\n",
       "        3.16522792e-02,  3.00930403e-02,  8.98861047e-03, -8.30621123e-02,\n",
       "       -2.24144068e-02,  1.82182770e-02, -5.66516072e-02, -4.21272404e-02,\n",
       "        3.27233188e-02, -2.10855138e-02, -4.79221903e-03,  1.90162845e-02,\n",
       "        4.55398150e-02, -9.62486584e-03, -2.30316427e-02, -3.52343023e-02,\n",
       "       -3.91419083e-02, -3.46547849e-02,  2.47354880e-02,  4.71566357e-02,\n",
       "        3.46270800e-02,  5.29963560e-02, -2.86405440e-02, -1.71784740e-02,\n",
       "       -1.30145783e-02, -5.79404794e-02,  3.99250984e-02, -5.88766597e-02,\n",
       "        4.57601286e-02,  2.09622309e-02, -1.52759682e-02,  3.25414352e-02,\n",
       "        2.08253171e-02, -2.48041824e-02, -4.24146801e-02,  2.95955203e-02,\n",
       "       -4.62034456e-02,  3.17028798e-02, -7.64969969e-03,  5.84932975e-03,\n",
       "       -3.90673764e-02,  8.11778847e-03, -3.60447280e-02,  6.34325817e-02,\n",
       "       -4.23139147e-02, -1.57092197e-03,  9.18290857e-03, -2.99420767e-02,\n",
       "       -2.27955393e-02, -9.86715779e-03,  2.94452701e-02,  1.75153539e-02,\n",
       "       -1.93444286e-02,  2.40449943e-02,  2.92803310e-02,  4.78759437e-04,\n",
       "        2.55403221e-02, -3.34960073e-02,  3.04799713e-02, -9.45277698e-03,\n",
       "        3.35257351e-02,  5.77760935e-02, -1.58550553e-02, -7.15147778e-02,\n",
       "        6.71699643e-04, -7.77693419e-03, -5.37220314e-02, -1.58578549e-02,\n",
       "        2.93349028e-02, -5.35059422e-02, -2.82785818e-02, -3.81729156e-02,\n",
       "        1.05947652e-03,  3.31670488e-03,  2.60325242e-02, -2.05704346e-02,\n",
       "       -2.55043637e-02, -2.73665655e-02,  2.12153681e-02, -3.17961499e-02,\n",
       "       -2.71618534e-02, -3.00256964e-02, -5.35569862e-02,  1.62939299e-02,\n",
       "        2.55569769e-03,  7.67827854e-02,  3.24226059e-02,  3.80413868e-02,\n",
       "       -2.25356128e-02, -4.81642038e-02,  2.26790197e-02,  1.25548560e-02,\n",
       "       -4.78155278e-02,  4.13825214e-02, -9.52938013e-03,  3.37111540e-02,\n",
       "        3.21243294e-02,  5.91824874e-02, -7.25298077e-02, -7.38686323e-03,\n",
       "       -3.22184041e-02,  3.09309363e-02,  5.23214079e-02,  3.24243307e-02,\n",
       "       -3.95455807e-02, -2.63984799e-02, -2.35443562e-02,  2.39199190e-03,\n",
       "        3.20996381e-02,  8.44294112e-03,  9.85334814e-03,  1.95926614e-02,\n",
       "        3.99372615e-02,  4.52750400e-02,  3.52183282e-02,  1.67367589e-02,\n",
       "        2.65720785e-02, -8.88591819e-03, -1.27367377e-02, -5.89370169e-02,\n",
       "       -2.89509781e-02,  2.18168292e-02, -4.62896824e-02, -5.12739457e-03,\n",
       "       -2.73846611e-02, -4.35680896e-02, -3.33960168e-02,  2.61662505e-03,\n",
       "        6.77051991e-02, -6.68663532e-03,  4.25815880e-02, -8.47998355e-03,\n",
       "       -4.45969701e-02, -4.92076762e-02,  2.54241079e-02,  3.41309421e-02,\n",
       "        4.66176309e-02,  3.41222994e-02, -3.89920063e-02,  6.68450817e-02,\n",
       "        6.32637441e-02, -1.53561104e-02, -6.43572479e-04,  1.88045725e-02,\n",
       "        1.10457744e-02, -2.76161488e-02,  4.89471890e-02, -6.65619597e-02,\n",
       "        4.41555027e-03, -8.06403626e-03, -7.56583735e-02,  5.20582460e-02,\n",
       "       -1.68674979e-02, -1.51841259e-02,  2.59555969e-02,  4.38799802e-03,\n",
       "        1.29939383e-02,  2.37958189e-02, -3.92606109e-02,  3.40799126e-03,\n",
       "       -4.65255342e-02, -5.80669418e-02, -4.86324541e-02,  3.85592915e-02,\n",
       "        1.58163384e-02, -3.55918035e-02, -6.13348782e-02, -4.66559045e-02,\n",
       "        3.48288976e-02, -3.00835781e-02, -3.80522795e-02,  5.35571314e-02,\n",
       "       -4.42222878e-02, -4.11476940e-02,  2.34689936e-02,  4.05510655e-05,\n",
       "       -2.18804367e-03, -2.06344598e-03, -4.33782786e-02, -6.21944258e-04,\n",
       "       -4.64339927e-02,  8.27863142e-02, -1.49072949e-02,  3.24270651e-02,\n",
       "        1.35793118e-02, -1.49163255e-03,  8.62602666e-02,  6.92183003e-02,\n",
       "        4.57405206e-03,  3.55522498e-03,  6.91157803e-02, -9.68691260e-02,\n",
       "        3.21001522e-02, -1.90143026e-02,  7.19639882e-02,  7.18858615e-02,\n",
       "        2.10938957e-02, -8.37267900e-04, -2.27937549e-02,  1.27857076e-02,\n",
       "        9.23394561e-02, -5.41784130e-02,  4.61493358e-02, -7.08937319e-03,\n",
       "       -3.20987441e-02, -3.81699540e-02, -4.22405489e-02,  5.16356528e-02,\n",
       "        1.07125659e-02, -5.59868775e-02, -2.29028333e-02,  3.15916166e-02,\n",
       "       -5.60135469e-02,  1.22198770e-02, -1.85766239e-02, -3.86149739e-03,\n",
       "        5.66245355e-02,  3.09959762e-02,  3.28163244e-02,  5.95071577e-02,\n",
       "       -1.15265734e-02,  2.45990697e-02,  1.98690337e-03,  3.61349955e-02,\n",
       "        7.19022378e-02,  6.74677035e-03, -2.22807806e-02,  3.80801782e-02,\n",
       "       -3.19978856e-02,  4.77899909e-02, -4.88462113e-02, -2.62966901e-02,\n",
       "       -9.14796069e-03, -3.70225236e-02, -2.10672524e-02,  3.66252735e-02,\n",
       "       -2.93563865e-03,  1.90015677e-02, -4.06738296e-02, -9.88852791e-03,\n",
       "       -1.32069644e-02, -1.84205808e-02, -3.04456856e-02, -1.17647834e-02,\n",
       "       -2.16221381e-02, -1.32908020e-02, -4.90810126e-02,  3.75495031e-02,\n",
       "        2.36799717e-02,  6.20989455e-03,  1.94518603e-02,  1.11171184e-02,\n",
       "       -1.27271703e-02, -1.16941407e-02, -4.15579379e-02,  3.03729624e-03,\n",
       "        3.35786045e-02,  2.02150345e-02, -5.23533002e-02, -1.03417980e-02,\n",
       "       -3.44100036e-02, -1.83595121e-02,  1.93087186e-03,  3.44448313e-02,\n",
       "       -2.83047743e-02,  7.25736469e-03,  5.40008359e-02, -2.32119635e-02,\n",
       "       -2.37849839e-02,  5.14848717e-03, -1.04726721e-02, -3.04511189e-02,\n",
       "       -1.45228272e-02,  5.83772324e-02,  6.24929322e-03,  1.76533498e-02,\n",
       "        2.71378104e-02, -2.07602717e-02, -4.82952176e-03,  4.38607410e-02,\n",
       "        4.89790998e-02, -1.84726268e-02,  2.23985426e-02,  2.48787347e-02,\n",
       "       -7.83605501e-03,  2.70838104e-02,  8.69911686e-02,  5.14607616e-02,\n",
       "        2.68817041e-02, -2.45198477e-02,  1.98571179e-02,  2.55423263e-02,\n",
       "       -4.49709371e-02,  1.18260551e-02, -5.71241118e-02,  6.86877966e-02,\n",
       "        2.32738312e-02,  4.34287637e-02,  1.60184596e-02,  3.36551331e-02,\n",
       "        1.18744932e-02,  1.84787437e-02,  2.18717139e-02,  8.06096196e-03,\n",
       "        2.65187304e-02, -1.67911127e-02, -1.14257261e-02,  5.79695925e-02,\n",
       "        2.19955351e-02, -7.88591728e-02,  4.26270813e-02, -7.00563118e-02,\n",
       "        5.12132421e-02,  2.96158474e-02,  4.99608852e-02,  9.40515008e-03,\n",
       "       -4.73498143e-02,  4.21216860e-02, -1.81927327e-02, -7.69210905e-02,\n",
       "        9.72858630e-03, -6.79067373e-02,  1.55992396e-02,  2.72872970e-02,\n",
       "        4.54439782e-03, -2.10018130e-03,  7.53396899e-02,  1.33477501e-03,\n",
       "       -1.99395269e-02, -5.24483658e-02,  3.05679301e-03,  1.98292304e-02,\n",
       "        2.39940342e-02,  1.24235759e-02,  1.47049818e-02,  1.03529328e-02,\n",
       "       -4.38815393e-02,  4.75225896e-02,  3.21548954e-02,  6.52144779e-04,\n",
       "       -2.02530157e-02,  4.32259031e-02, -2.71596760e-02,  1.38091706e-02,\n",
       "       -3.86391394e-02,  2.84992382e-02, -2.27456517e-03,  3.99672091e-02,\n",
       "        1.53476512e-02,  1.32416217e-02, -7.11277053e-02,  3.93648595e-02,\n",
       "        2.51131579e-02, -2.36387905e-02,  1.80941671e-02, -2.43954845e-02,\n",
       "        2.19321344e-03,  3.75051871e-02,  1.56092709e-02,  7.14065228e-03,\n",
       "       -3.41359824e-02,  7.57611403e-03,  2.62275022e-02,  1.14289084e-02,\n",
       "        3.52655724e-02,  2.13694107e-03, -4.56287386e-03, -2.63882596e-02,\n",
       "        6.55588731e-02,  6.00264817e-02, -3.54714841e-02, -1.01351049e-02,\n",
       "        2.56268736e-02, -1.02697194e-01,  3.54785658e-02, -6.22319803e-02,\n",
       "       -1.14733363e-02, -3.44270631e-03,  1.05506927e-03, -2.81986292e-03,\n",
       "        6.26723096e-02, -4.57265563e-02,  1.70463417e-02, -8.05483013e-02,\n",
       "        1.55107733e-02, -2.58653483e-04,  2.01547835e-02,  8.79568700e-03,\n",
       "        2.62558088e-02,  8.31539859e-04, -3.23720202e-02, -5.27924821e-02,\n",
       "        1.55638326e-02,  1.15739871e-02, -2.99579138e-03, -8.24659131e-03,\n",
       "       -3.26188579e-02, -7.73415044e-02, -4.12967354e-02, -2.21012309e-02,\n",
       "        4.75403946e-03, -1.25991134e-02,  1.07522672e-02,  4.99580987e-02,\n",
       "        2.15218104e-02,  2.69317012e-02,  3.28039862e-02,  7.46339280e-03,\n",
       "        1.83876939e-02, -2.74958238e-02, -9.13318340e-03, -1.22791221e-02,\n",
       "        2.07575765e-02,  1.40682133e-02,  1.09913321e-02, -2.26452406e-02,\n",
       "        6.41366020e-02, -1.79608706e-02, -4.23230790e-02, -1.88528409e-03,\n",
       "       -3.59299928e-02,  1.20294662e-02,  1.00361584e-02,  6.56100661e-02,\n",
       "        2.87165791e-02,  2.78465208e-02, -5.23850024e-02,  3.18163373e-02,\n",
       "       -4.65675630e-02,  1.38317076e-02,  2.83224750e-02,  7.78378546e-03,\n",
       "       -9.74420644e-03, -3.97435836e-02, -2.49804724e-02, -2.32912078e-02,\n",
       "       -2.11588778e-02, -6.84606982e-03, -1.95435155e-02, -2.29272284e-02,\n",
       "       -1.46510471e-02, -2.22448781e-02, -1.09536387e-02, -3.67133990e-02,\n",
       "       -1.84324961e-02, -1.04103489e-02, -8.88100546e-03, -1.47620412e-02,\n",
       "       -2.92523392e-02,  1.00569949e-02,  2.28201505e-02,  1.42328045e-03,\n",
       "       -2.35475171e-02, -2.39605550e-02,  5.40141463e-02, -2.16813087e-02,\n",
       "        1.94904301e-02, -3.11478581e-02, -1.54089872e-02, -1.45635102e-02,\n",
       "        5.81609719e-02,  3.05503346e-02, -5.09663997e-03, -1.68099888e-02,\n",
       "       -3.46655548e-02, -2.07241923e-02, -4.60087880e-02,  2.22175079e-03,\n",
       "       -4.44852710e-02,  1.13986507e-02,  3.25434990e-02, -7.11341277e-02,\n",
       "       -2.52612978e-02, -1.93927754e-02,  1.29123013e-02, -3.82378511e-02,\n",
       "       -1.61820780e-02,  3.58506478e-02,  5.04317358e-02, -4.06112662e-03,\n",
       "        1.62504595e-02, -7.24662468e-02,  2.72172056e-02,  1.78223979e-02,\n",
       "        1.37028936e-02,  2.36819815e-02,  2.59892568e-02,  4.08843160e-02,\n",
       "        6.46982761e-03, -1.15187671e-02, -2.65878662e-02,  9.67558660e-03,\n",
       "       -5.31225950e-02,  8.27078591e-04,  1.87265556e-02, -2.92992499e-03,\n",
       "        2.49405038e-02, -1.47512304e-02,  1.41259292e-02,  4.05030213e-02,\n",
       "       -1.27288122e-02, -6.76722825e-02,  4.83829267e-02,  4.07700092e-02,\n",
       "        1.98604744e-02,  3.03293895e-02,  2.63720825e-02,  5.23594171e-02,\n",
       "       -3.34631726e-02, -9.35078412e-03,  1.69177391e-02,  4.34684120e-02,\n",
       "        3.83584723e-02,  4.47563305e-02,  1.90878902e-02, -1.47993229e-02,\n",
       "       -4.34138440e-03,  1.08403731e-02,  4.95935045e-03, -1.63312685e-02,\n",
       "       -1.97152677e-03, -4.17675041e-02,  6.56750873e-02, -6.79402873e-02,\n",
       "        4.33395850e-03, -1.69463400e-02,  2.51759011e-02,  2.56764218e-02,\n",
       "        1.15084718e-03, -1.54735902e-02, -7.34508177e-03, -5.32573089e-02,\n",
       "        3.48776672e-03, -1.38180191e-02, -5.89081980e-02,  2.92867539e-03,\n",
       "        5.04819453e-02,  3.35810171e-03, -8.88556913e-02, -3.84000950e-02,\n",
       "       -2.22147685e-02, -2.82134060e-02, -5.42554725e-03,  2.85600796e-02,\n",
       "       -4.50810827e-02,  7.93241954e-04,  8.93172324e-02,  1.16104521e-02,\n",
       "       -3.18007842e-02,  2.66567413e-02,  2.71803029e-02,  1.89267620e-02,\n",
       "       -2.06058733e-02, -3.02397218e-02, -2.85009462e-02, -3.13029103e-02,\n",
       "       -1.97962727e-02, -6.64771814e-03, -1.67978164e-02, -1.99807677e-02,\n",
       "       -5.34575731e-02, -4.45704063e-04, -2.96823364e-02,  4.37867381e-02,\n",
       "       -1.00503983e-02, -1.09997466e-02,  2.21026037e-02, -3.46549451e-02,\n",
       "        2.11836342e-02,  1.56232938e-02,  2.64695901e-02, -2.34831236e-02,\n",
       "        2.44938098e-02,  4.38888222e-02,  7.06142886e-03, -1.21593969e-02,\n",
       "        1.87902078e-02, -6.91945525e-03,  1.30047081e-02,  1.27160354e-02,\n",
       "       -2.23638257e-03,  2.10030898e-02,  6.99696094e-02,  3.16452757e-02,\n",
       "       -2.35832650e-02,  4.63551376e-03, -6.60416950e-03, -3.26112211e-02,\n",
       "        7.33723342e-02, -8.55091065e-02, -4.05770317e-02,  2.57487409e-02,\n",
       "       -5.12589104e-02,  6.70370013e-02, -1.24506289e-02, -8.91838744e-02,\n",
       "        5.48583232e-02, -4.54949662e-02, -3.45565155e-02, -7.73075372e-02,\n",
       "        4.11657989e-02, -4.30639423e-02,  2.70703640e-02,  3.20440494e-02,\n",
       "       -4.77701798e-02, -1.56586375e-02,  1.72707476e-02, -5.23967519e-02,\n",
       "       -7.17989355e-02,  4.30013239e-03,  7.25270802e-05,  5.29346839e-02,\n",
       "       -3.14253867e-02,  1.90560780e-02,  2.56205965e-02,  7.90969804e-02,\n",
       "        2.13809386e-02, -2.44315472e-02, -1.42572727e-02,  3.64167280e-02,\n",
       "        4.89886589e-02,  2.09607352e-02, -4.13178727e-02,  4.09340262e-02,\n",
       "       -1.21459827e-01,  6.68874905e-02, -3.10792297e-04, -6.26344793e-03,\n",
       "        3.98600399e-02,  5.48594296e-02, -1.15817949e-01,  5.31956665e-02,\n",
       "       -4.32697125e-02,  4.33376282e-02,  2.90152598e-02, -8.89772102e-02,\n",
       "       -2.17882581e-02,  1.54281370e-02,  3.62120308e-02, -9.14941952e-02,\n",
       "       -3.93838948e-03, -3.60861048e-02, -7.26092979e-03,  8.90834257e-03,\n",
       "       -5.32953553e-02,  3.61573249e-02,  8.56206119e-02, -1.42062316e-02,\n",
       "        2.44348440e-02,  1.94476964e-03,  5.81038073e-02, -2.16630101e-02,\n",
       "        2.43256297e-02, -2.31518247e-03, -1.37544167e-03,  5.89746535e-02,\n",
       "        8.06511473e-03, -5.71862515e-03,  2.14907620e-02, -2.76927203e-02,\n",
       "       -3.97251993e-02,  3.13827954e-02,  1.40229415e-03,  5.06811701e-02],\n",
       "      dtype=float32)"
      ]
     },
     "execution_count": 5,
     "metadata": {},
     "output_type": "execute_result"
    }
   ],
   "source": [
    "question_vector = embedding_model.encode(user_question)"
   ]
  },
  {
   "cell_type": "code",
   "execution_count": 6,
   "metadata": {},
   "outputs": [
    {
     "data": {
      "text/plain": [
       "768"
      ]
     },
     "execution_count": 6,
     "metadata": {},
     "output_type": "execute_result"
    }
   ],
   "source": [
    "len(question_vector)"
   ]
  },
  {
   "cell_type": "code",
   "execution_count": 7,
   "metadata": {},
   "outputs": [],
   "source": [
    "import requests \n",
    "\n",
    "base_url = 'https://github.com/DataTalksClub/llm-zoomcamp/blob/main'\n",
    "relative_url = '03-vector-search/eval/documents-with-ids.json'\n",
    "docs_url = f'{base_url}/{relative_url}?raw=1'\n",
    "docs_response = requests.get(docs_url)\n",
    "documents = docs_response.json()"
   ]
  },
  {
   "cell_type": "code",
   "execution_count": 10,
   "metadata": {},
   "outputs": [
    {
     "data": {
      "text/plain": [
       "948"
      ]
     },
     "execution_count": 10,
     "metadata": {},
     "output_type": "execute_result"
    }
   ],
   "source": [
    "len(documents)"
   ]
  },
  {
   "cell_type": "code",
   "execution_count": 12,
   "metadata": {},
   "outputs": [
    {
     "data": {
      "text/plain": [
       "375"
      ]
     },
     "execution_count": 12,
     "metadata": {},
     "output_type": "execute_result"
    }
   ],
   "source": [
    "filtered_docs = [doc for doc in documents if doc['course'] == 'machine-learning-zoomcamp']\n",
    "len(filtered_docs)"
   ]
  },
  {
   "cell_type": "code",
   "execution_count": 13,
   "metadata": {},
   "outputs": [],
   "source": [
    "import numpy as np"
   ]
  },
  {
   "cell_type": "code",
   "execution_count": 17,
   "metadata": {},
   "outputs": [
    {
     "data": {
      "text/plain": [
       "375"
      ]
     },
     "execution_count": 17,
     "metadata": {},
     "output_type": "execute_result"
    }
   ],
   "source": [
    "embeddings = []\n",
    "for doc in filtered_docs:\n",
    "    qa_text = doc['question'] + ' ' + doc['text']\n",
    "    embedding = embedding_model.encode(qa_text)\n",
    "    embeddings.append(embedding)\n",
    "\n",
    "len(embeddings)"
   ]
  },
  {
   "cell_type": "code",
   "execution_count": 20,
   "metadata": {},
   "outputs": [
    {
     "data": {
      "text/plain": [
       "(375, 768)"
      ]
     },
     "execution_count": 20,
     "metadata": {},
     "output_type": "execute_result"
    }
   ],
   "source": [
    "X = np.array(embeddings)\n",
    "X.shape"
   ]
  },
  {
   "cell_type": "code",
   "execution_count": 21,
   "metadata": {},
   "outputs": [
    {
     "data": {
      "text/plain": [
       "array([ 2.89217353e-01,  4.35050905e-01,  2.20572829e-01,  1.28085971e-01,\n",
       "        3.28754663e-01,  4.58999872e-01,  4.48930979e-01,  2.70170629e-01,\n",
       "        2.13975087e-01,  3.39745581e-01,  1.63339287e-01,  3.15917969e-01,\n",
       "        1.53619647e-02,  4.14240628e-01,  6.50657415e-01,  4.12786543e-01,\n",
       "        2.02390388e-01,  4.71707642e-01,  3.74821603e-01,  3.53319407e-01,\n",
       "        4.50558662e-01,  1.85430780e-01,  3.45527232e-01,  8.22948888e-02,\n",
       "       -2.19076872e-02, -4.64249700e-02,  8.60691220e-02,  9.87197086e-02,\n",
       "       -2.14188099e-02,  1.28752533e-02,  2.54871063e-02,  3.66865620e-02,\n",
       "        4.56339382e-02, -2.05278154e-02,  1.82662141e-02,  3.39788869e-02,\n",
       "        1.66501384e-03,  1.03211161e-02,  3.40170935e-02, -2.65231486e-02,\n",
       "       -4.11909074e-02, -4.97983694e-02, -6.20346591e-02, -7.63554219e-03,\n",
       "        4.61618155e-02,  6.95945695e-03,  4.77613434e-02, -9.97793861e-04,\n",
       "       -5.60125113e-02, -5.96207306e-02,  2.05209255e-01, -1.16968535e-01,\n",
       "       -2.34159324e-02, -1.52459070e-02, -6.83502434e-03, -8.61713737e-02,\n",
       "        2.02636793e-02, -2.51591802e-02,  4.21296805e-04, -3.79210897e-02,\n",
       "       -3.21441218e-02,  2.48612493e-01,  2.12661535e-01,  2.87319869e-02,\n",
       "        5.64009789e-03,  2.83872038e-02,  1.02312028e-01,  1.08430341e-01,\n",
       "        4.45671603e-02,  5.62140010e-02, -1.25656962e-01,  6.16895221e-03,\n",
       "        7.16234371e-03, -5.59203997e-02, -4.92568500e-02, -6.11873418e-02,\n",
       "        2.45293658e-02,  1.35820936e-02, -4.08512652e-02, -1.22759454e-02,\n",
       "        7.87671879e-02, -4.09776643e-02,  2.84433365e-03,  3.54052074e-02,\n",
       "        7.06098229e-03, -7.25119710e-02,  8.09859782e-02,  2.13899940e-01,\n",
       "        5.30422702e-02,  5.03776036e-02, -3.79603244e-02, -2.42293514e-02,\n",
       "       -1.34442234e-02,  7.92891830e-02, -4.85012028e-03, -4.29112203e-02,\n",
       "       -3.20610255e-02,  6.69905022e-02, -8.40563327e-03, -1.32086962e-01,\n",
       "       -1.15128234e-03,  4.14729193e-02, -1.31331891e-01, -3.80732082e-02,\n",
       "        6.47669658e-03,  8.36594850e-02,  2.45577637e-02, -6.55224398e-02,\n",
       "       -6.91722706e-02,  5.12287542e-02,  4.83924150e-03,  5.39999381e-02,\n",
       "       -2.80693416e-02, -7.57022724e-02, -1.05883375e-01,  2.03204863e-02,\n",
       "        1.69168152e-02, -2.74919290e-02,  7.05350656e-03, -6.26005903e-02,\n",
       "       -1.31930068e-01,  5.10980487e-02,  1.47758454e-01, -3.40153389e-02,\n",
       "       -3.57092805e-02,  1.55356415e-02, -1.18726967e-02,  7.73691460e-02,\n",
       "        4.35772128e-02, -6.61863089e-02,  2.52171129e-01,  4.70676199e-02,\n",
       "       -7.70065635e-02,  3.79015803e-02,  1.35743096e-01, -7.73309032e-03,\n",
       "       -4.33597602e-02,  7.42027164e-02,  1.12940855e-02, -4.40411419e-02,\n",
       "        3.28043610e-01,  3.83173348e-03, -4.73499345e-03,  7.93524552e-04,\n",
       "       -6.67457506e-02,  1.09345810e-02,  6.56731892e-03, -2.20777094e-03,\n",
       "       -2.48780940e-03,  9.11666919e-03, -1.64973475e-02,  6.57348633e-02,\n",
       "        1.86012715e-01,  1.81024373e-01,  1.19438991e-02,  9.31540430e-02,\n",
       "        8.77034962e-02,  4.60377261e-02, -3.29314247e-02,  8.97290260e-02,\n",
       "        4.92409170e-02, -1.51444469e-02,  1.82684094e-01, -9.11697745e-03,\n",
       "        3.82711813e-02, -2.85149571e-02, -2.32421234e-02, -1.17940336e-01,\n",
       "        8.04635212e-02, -3.96182947e-02, -2.93325763e-02, -2.86630262e-02,\n",
       "        5.59824444e-02,  2.05440633e-02,  4.35311086e-02,  8.72739404e-03,\n",
       "        9.05860960e-02,  4.16058190e-02, -1.07162222e-01, -1.74159333e-02,\n",
       "        3.76869813e-02,  5.74284326e-03,  7.82681853e-02, -1.67808905e-02,\n",
       "       -2.49322541e-02,  1.17247656e-01,  1.92652047e-02,  2.24364810e-02,\n",
       "        6.70091063e-02,  1.04418218e-01,  9.30422619e-02,  1.11064211e-01,\n",
       "       -1.55649278e-02, -8.05806369e-04,  1.06892452e-01, -5.77539094e-02,\n",
       "        9.22656208e-02,  8.57101232e-02, -5.62503468e-04,  6.70873150e-02,\n",
       "       -8.66510160e-03,  1.68557931e-02,  6.78131580e-02,  3.23787481e-02,\n",
       "        1.53096735e-01,  3.46205942e-03,  9.72393528e-02,  7.46945664e-03,\n",
       "        5.92091717e-02, -4.15476412e-03,  8.42873156e-02, -2.21288987e-02,\n",
       "       -2.13755332e-02, -3.08730621e-02,  1.13827318e-01, -5.18075973e-02,\n",
       "       -3.82554494e-02,  1.21785209e-01,  2.12654807e-02,  1.00384116e-01,\n",
       "        1.02448799e-01, -8.57206509e-02,  9.46158916e-02, -5.88212302e-03,\n",
       "       -8.54180902e-02, -5.48273772e-02, -2.86803581e-02,  6.51873797e-02,\n",
       "       -8.90593827e-02,  2.25947574e-02,  2.30082124e-03,  1.26689643e-01,\n",
       "        9.92650911e-02,  1.21937007e-01,  8.56220536e-03,  5.68377413e-02,\n",
       "        1.07429989e-01,  3.81353945e-02,  3.70677784e-02,  5.04433811e-02,\n",
       "        5.89762703e-02,  1.46543803e-02,  5.39242104e-02, -1.02879503e-03,\n",
       "        4.38618176e-02, -5.49200773e-02,  9.17540193e-02,  8.76394808e-02,\n",
       "        1.08016850e-02,  6.35478571e-02,  7.61533678e-02, -1.20977826e-01,\n",
       "        3.12571824e-02,  1.07315466e-01,  2.11034901e-02, -1.16809830e-01,\n",
       "       -7.75170848e-02, -3.13895233e-02,  9.74866375e-03, -2.51133777e-02,\n",
       "        7.61502981e-03, -5.23269363e-02,  8.75005275e-02,  1.02829650e-01,\n",
       "        5.21386191e-02,  1.17952153e-02, -6.86213151e-02, -3.29190120e-02,\n",
       "        1.25220595e-02,  4.99133319e-02,  1.76851153e-02,  5.28944768e-02,\n",
       "        3.63487005e-02, -3.74852046e-02,  4.61166631e-03, -1.40474707e-01,\n",
       "       -8.45710635e-02, -1.63268670e-02, -2.33859196e-03,  9.91798043e-02,\n",
       "        8.12099427e-02, -1.15462355e-02, -1.46433683e-02,  5.92482761e-02,\n",
       "       -2.45577600e-02,  2.28129812e-02,  1.75959617e-02,  4.81147021e-02,\n",
       "        1.09546632e-02, -2.97679231e-02, -4.04061377e-03,  8.05019364e-02,\n",
       "        5.23829907e-02,  6.93682134e-02,  4.00667079e-03, -1.52228288e-02,\n",
       "       -5.35548152e-03,  2.97431257e-02,  2.86108088e-02,  5.79047576e-03,\n",
       "        8.26219171e-02, -6.90157991e-03,  8.27183425e-02,  3.15403044e-02,\n",
       "        7.90223330e-02,  1.35424137e-01, -6.60500210e-03,  3.40357348e-02,\n",
       "       -6.04557544e-02,  2.99295411e-04,  4.17965874e-02,  2.76402198e-02,\n",
       "        2.20876224e-02,  8.75888169e-02,  3.75620425e-02,  1.02919322e-02,\n",
       "        2.79955342e-02,  1.11261211e-01, -4.82461117e-02,  2.56312676e-02,\n",
       "        1.01506002e-02,  1.10233329e-01,  8.72283429e-02,  1.99888915e-01,\n",
       "        1.58133343e-01,  5.12094237e-03, -5.28741851e-02,  1.38271108e-01,\n",
       "        3.39298658e-02,  3.29888523e-01,  1.50600284e-01,  9.16855484e-02,\n",
       "        2.34561227e-02,  2.25460306e-01,  1.53260082e-01, -7.96013139e-03,\n",
       "        1.47858799e-01,  5.57384565e-02,  4.80688885e-02,  7.96166435e-03,\n",
       "        1.04084671e-01, -1.46763742e-01,  1.24577597e-01,  5.08535374e-03,\n",
       "        9.75180864e-02, -3.69484127e-02, -1.76296532e-02,  6.71321675e-02,\n",
       "       -4.29843292e-02,  8.52770358e-03,  3.95144597e-02,  4.70581576e-02,\n",
       "       -2.83396021e-02, -2.89894380e-02, -4.38461155e-02, -1.16549684e-02,\n",
       "        4.59899530e-02,  1.22448364e-02,  9.40719247e-02,  6.48719370e-02,\n",
       "       -5.06505631e-02,  1.39609873e-01,  1.91962585e-01,  1.55291140e-01,\n",
       "       -1.94994807e-02,  1.88640412e-02,  6.77656289e-03,  3.05331741e-02,\n",
       "        2.56958399e-02,  7.66611993e-02, -7.14630112e-02,  4.56990510e-01,\n",
       "        1.33357748e-01,  6.59829080e-02,  2.52122700e-01], dtype=float32)"
      ]
     },
     "execution_count": 21,
     "metadata": {},
     "output_type": "execute_result"
    }
   ],
   "source": [
    "scores = X.dot(question_vector)\n",
    "scores"
   ]
  },
  {
   "cell_type": "code",
   "execution_count": 22,
   "metadata": {},
   "outputs": [
    {
     "data": {
      "text/plain": [
       "0.6506574"
      ]
     },
     "execution_count": 22,
     "metadata": {},
     "output_type": "execute_result"
    }
   ],
   "source": [
    "best_score = np.max(scores)\n",
    "best_score"
   ]
  },
  {
   "cell_type": "code",
   "execution_count": 23,
   "metadata": {},
   "outputs": [
    {
     "data": {
      "text/plain": [
       "[{'text': 'Yes, you can. You won’t be able to submit some of the homeworks, but you can still take part in the course.\\nIn order to get a certificate, you need to submit 2 out of 3 course projects and review 3 peers’ Projects by the deadline. It means that if you join the course at the end of November and manage to work on two projects, you will still be eligible for a certificate.',\n",
       "  'section': 'General course-related questions',\n",
       "  'question': 'The course has already started. Can I still join it?',\n",
       "  'course': 'machine-learning-zoomcamp',\n",
       "  'id': 'ee58a693'},\n",
       " {'text': 'Welcome to the course! Go to the course page (http://mlzoomcamp.com/), scroll down and start going through the course materials. Then read everything in the cohort folder for your cohort’s year.\\nClick on the links and start watching the videos. Also watch office hours from previous cohorts. Go to DTC youtube channel and click on Playlists and search for {course yyyy}. ML Zoomcamp was first launched in 2021.\\nOr you can just use this link: http://mlzoomcamp.com/#syllabus',\n",
       "  'section': 'General course-related questions',\n",
       "  'question': 'I just joined. What should I do next? How can I access course materials?',\n",
       "  'course': 'machine-learning-zoomcamp',\n",
       "  'id': '0a278fb2'},\n",
       " {'text': \"The process is automated now, so you should receive the email eventually. If you haven’t, check your promotions tab in Gmail as well as spam.\\nIf you unsubscribed from our newsletter, you won't get course related updates too.\\nBut don't worry, it’s not a problem. To make sure you don’t miss anything, join the #course-ml-zoomcamp channel in Slack and our telegram channel with announcements. This is enough to follow the course.\",\n",
       "  'section': 'General course-related questions',\n",
       "  'question': \"I filled the form, but haven't received a confirmation email. Is it normal?\",\n",
       "  'course': 'machine-learning-zoomcamp',\n",
       "  'id': '6ba259b1'},\n",
       " {'text': 'Technically, yes. Advisable? Not really. Reasons:\\nSome homework(s) asks for specific python library versions.\\nAnswers may not match in MCQ options if using different languages other than Python 3.10 (the recommended version for 2023 cohort)\\nAnd as for midterms/capstones, your peer-reviewers may not know these other languages. Do you want to be penalized for others not knowing these other languages?\\nYou can create a separate repo using course’s lessons but written in other languages for your own learnings, but not advisable for submissions.\\ntx[source]',\n",
       "  'section': 'Miscellaneous',\n",
       "  'question': 'Can I do the course in other languages, like R or Scala?',\n",
       "  'course': 'machine-learning-zoomcamp',\n",
       "  'id': '9f261648'},\n",
       " {'text': 'We won’t re-record the course videos. The focus of the course and the skills we want to teach remained the same, and the videos are still up-to-date.\\nIf you haven’t taken part in the previous iteration, you can start watching the videos. It’ll be useful for you and you will learn new things. However, we recommend using Python 3.10 now instead of Python 3.8.',\n",
       "  'section': 'General course-related questions',\n",
       "  'question': 'The course videos are from the previous iteration. Will you release new ones or we’ll use the videos from 2021?',\n",
       "  'course': 'machine-learning-zoomcamp',\n",
       "  'id': 'e7ba6b8a'}]"
      ]
     },
     "execution_count": 23,
     "metadata": {},
     "output_type": "execute_result"
    }
   ],
   "source": [
    "class VectorSearchEngine():\n",
    "    def __init__(self, documents, embeddings):\n",
    "        self.documents = documents\n",
    "        self.embeddings = embeddings\n",
    "\n",
    "    def search(self, v_query, num_results=5):\n",
    "        scores = self.embeddings.dot(v_query)\n",
    "        idx = np.argsort(-scores)[:num_results]\n",
    "        return [self.documents[i] for i in idx]\n",
    "\n",
    "search_engine = VectorSearchEngine(documents=filtered_docs, embeddings=X)\n",
    "search_engine.search(question_vector, num_results=5)"
   ]
  },
  {
   "cell_type": "code",
   "execution_count": 24,
   "metadata": {},
   "outputs": [
    {
     "data": {
      "text/plain": [
       "1830"
      ]
     },
     "execution_count": 24,
     "metadata": {},
     "output_type": "execute_result"
    }
   ],
   "source": [
    "import pandas as pd\n",
    "\n",
    "base_url = 'https://github.com/DataTalksClub/llm-zoomcamp/blob/main'\n",
    "relative_url = '03-vector-search/eval/ground-truth-data.csv'\n",
    "ground_truth_url = f'{base_url}/{relative_url}?raw=1'\n",
    "\n",
    "df_ground_truth = pd.read_csv(ground_truth_url)\n",
    "df_ground_truth = df_ground_truth[df_ground_truth.course == 'machine-learning-zoomcamp']\n",
    "ground_truth = df_ground_truth.to_dict(orient='records')\n",
    "len(ground_truth)"
   ]
  },
  {
   "cell_type": "code",
   "execution_count": 25,
   "metadata": {},
   "outputs": [
    {
     "data": {
      "text/plain": [
       "{'question': 'Where can I sign up for the course?',\n",
       " 'course': 'machine-learning-zoomcamp',\n",
       " 'document': '0227b872'}"
      ]
     },
     "execution_count": 25,
     "metadata": {},
     "output_type": "execute_result"
    }
   ],
   "source": [
    "ground_truth[0]"
   ]
  },
  {
   "cell_type": "code",
   "execution_count": 32,
   "metadata": {},
   "outputs": [],
   "source": [
    "from tqdm.auto import tqdm\n",
    "\n",
    "def hit_rate(relevance_total):\n",
    "    cnt = 0\n",
    "\n",
    "    for line in relevance_total:\n",
    "        if True in line:\n",
    "            cnt = cnt + 1\n",
    "\n",
    "    return cnt / len(relevance_total)\n",
    "\n",
    "def evaluate(ground_truth, search_function):\n",
    "    relevance_total = []\n",
    "\n",
    "    for q in tqdm(ground_truth):\n",
    "        q_vec = embedding_model.encode(q['question'])\n",
    "        doc_id = q['document']\n",
    "        results = search_function(q_vec)\n",
    "        relevance = [d['id'] == doc_id for d in results]\n",
    "        relevance_total.append(relevance)\n",
    "\n",
    "    return {\n",
    "        'hit_rate': hit_rate(relevance_total)\n",
    "    }"
   ]
  },
  {
   "cell_type": "code",
   "execution_count": 34,
   "metadata": {},
   "outputs": [
    {
     "name": "stderr",
     "output_type": "stream",
     "text": [
      "100%|██████████| 1830/1830 [00:49<00:00, 37.33it/s]\n"
     ]
    },
    {
     "data": {
      "text/plain": [
       "{'hit_rate': 0.9579234972677596}"
      ]
     },
     "execution_count": 34,
     "metadata": {},
     "output_type": "execute_result"
    }
   ],
   "source": [
    "search_engine = VectorSearchEngine(documents=filtered_docs, embeddings=X)\n",
    "\n",
    "evaluate(ground_truth, search_engine.search)"
   ]
  },
  {
   "cell_type": "code",
   "execution_count": 37,
   "metadata": {},
   "outputs": [
    {
     "data": {
      "text/plain": [
       "ObjectApiResponse({'acknowledged': True, 'shards_acknowledged': True, 'index': 'course-questions'})"
      ]
     },
     "execution_count": 37,
     "metadata": {},
     "output_type": "execute_result"
    }
   ],
   "source": [
    "from elasticsearch import Elasticsearch\n",
    "\n",
    "es_client = Elasticsearch('http://localhost:9200') \n",
    "\n",
    "index_settings = {\n",
    "    \"settings\": {\n",
    "        \"number_of_shards\": 1,\n",
    "        \"number_of_replicas\": 0\n",
    "    },\n",
    "    \"mappings\": {\n",
    "        \"properties\": {\n",
    "            \"text\": {\"type\": \"text\"},\n",
    "            \"section\": {\"type\": \"text\"},\n",
    "            \"question\": {\"type\": \"text\"},\n",
    "            \"course\": {\"type\": \"keyword\"},\n",
    "            \"id\": {\"type\": \"keyword\"},\n",
    "            \"question_text_vector\": {\n",
    "                \"type\": \"dense_vector\",\n",
    "                \"dims\": 768,\n",
    "                \"index\": True,\n",
    "                \"similarity\": \"cosine\"\n",
    "            },\n",
    "        }\n",
    "    }\n",
    "}\n",
    "\n",
    "index_name = \"course-questions\"\n",
    "\n",
    "es_client.indices.delete(index=index_name, ignore_unavailable=True)\n",
    "es_client.indices.create(index=index_name, body=index_settings)"
   ]
  },
  {
   "cell_type": "code",
   "execution_count": 40,
   "metadata": {},
   "outputs": [],
   "source": [
    "# Adding the 'question_text_vector' key to each dictionary in filtered_docs\n",
    "for doc, embedding in zip(filtered_docs, embeddings):\n",
    "    doc['question_text_vector'] = embedding"
   ]
  },
  {
   "cell_type": "code",
   "execution_count": 42,
   "metadata": {},
   "outputs": [
    {
     "name": "stderr",
     "output_type": "stream",
     "text": [
      "100%|██████████| 375/375 [00:01<00:00, 245.29it/s]\n"
     ]
    }
   ],
   "source": [
    "for doc in tqdm(filtered_docs):\n",
    "    es_client.index(index=index_name, document=doc)"
   ]
  },
  {
   "cell_type": "code",
   "execution_count": 43,
   "metadata": {},
   "outputs": [],
   "source": [
    "def elastic_search_knn(vector):\n",
    "    knn = {\n",
    "        \"field\": 'question_text_vector',\n",
    "        \"query_vector\": vector,\n",
    "        \"k\": 5,\n",
    "        \"num_candidates\": 10000,\n",
    "    }\n",
    "\n",
    "    search_query = {\n",
    "        \"knn\": knn,\n",
    "        \"_source\": [\"text\", \"section\", \"question\", \"course\", \"id\"]\n",
    "    }\n",
    "\n",
    "    es_results = es_client.search(\n",
    "        index=index_name,\n",
    "        body=search_query\n",
    "    )\n",
    "    \n",
    "    result_docs = []\n",
    "    \n",
    "    for hit in es_results['hits']['hits']:\n",
    "        result_docs.append(hit['_source'])\n",
    "\n",
    "    return result_docs"
   ]
  },
  {
   "cell_type": "code",
   "execution_count": 45,
   "metadata": {},
   "outputs": [
    {
     "data": {
      "text/plain": [
       "[{'question': 'The course has already started. Can I still join it?',\n",
       "  'course': 'machine-learning-zoomcamp',\n",
       "  'section': 'General course-related questions',\n",
       "  'text': 'Yes, you can. You won’t be able to submit some of the homeworks, but you can still take part in the course.\\nIn order to get a certificate, you need to submit 2 out of 3 course projects and review 3 peers’ Projects by the deadline. It means that if you join the course at the end of November and manage to work on two projects, you will still be eligible for a certificate.',\n",
       "  'id': 'ee58a693'},\n",
       " {'question': 'I just joined. What should I do next? How can I access course materials?',\n",
       "  'course': 'machine-learning-zoomcamp',\n",
       "  'section': 'General course-related questions',\n",
       "  'text': 'Welcome to the course! Go to the course page (http://mlzoomcamp.com/), scroll down and start going through the course materials. Then read everything in the cohort folder for your cohort’s year.\\nClick on the links and start watching the videos. Also watch office hours from previous cohorts. Go to DTC youtube channel and click on Playlists and search for {course yyyy}. ML Zoomcamp was first launched in 2021.\\nOr you can just use this link: http://mlzoomcamp.com/#syllabus',\n",
       "  'id': '0a278fb2'},\n",
       " {'question': \"I filled the form, but haven't received a confirmation email. Is it normal?\",\n",
       "  'course': 'machine-learning-zoomcamp',\n",
       "  'section': 'General course-related questions',\n",
       "  'text': \"The process is automated now, so you should receive the email eventually. If you haven’t, check your promotions tab in Gmail as well as spam.\\nIf you unsubscribed from our newsletter, you won't get course related updates too.\\nBut don't worry, it’s not a problem. To make sure you don’t miss anything, join the #course-ml-zoomcamp channel in Slack and our telegram channel with announcements. This is enough to follow the course.\",\n",
       "  'id': '6ba259b1'},\n",
       " {'question': 'Can I do the course in other languages, like R or Scala?',\n",
       "  'course': 'machine-learning-zoomcamp',\n",
       "  'section': 'Miscellaneous',\n",
       "  'text': 'Technically, yes. Advisable? Not really. Reasons:\\nSome homework(s) asks for specific python library versions.\\nAnswers may not match in MCQ options if using different languages other than Python 3.10 (the recommended version for 2023 cohort)\\nAnd as for midterms/capstones, your peer-reviewers may not know these other languages. Do you want to be penalized for others not knowing these other languages?\\nYou can create a separate repo using course’s lessons but written in other languages for your own learnings, but not advisable for submissions.\\ntx[source]',\n",
       "  'id': '9f261648'},\n",
       " {'question': 'The course videos are from the previous iteration. Will you release new ones or we’ll use the videos from 2021?',\n",
       "  'course': 'machine-learning-zoomcamp',\n",
       "  'section': 'General course-related questions',\n",
       "  'text': 'We won’t re-record the course videos. The focus of the course and the skills we want to teach remained the same, and the videos are still up-to-date.\\nIf you haven’t taken part in the previous iteration, you can start watching the videos. It’ll be useful for you and you will learn new things. However, we recommend using Python 3.10 now instead of Python 3.8.',\n",
       "  'id': 'e7ba6b8a'}]"
      ]
     },
     "execution_count": 45,
     "metadata": {},
     "output_type": "execute_result"
    }
   ],
   "source": [
    "elastic_search_knn(question_vector)"
   ]
  },
  {
   "cell_type": "code",
   "execution_count": 46,
   "metadata": {},
   "outputs": [
    {
     "name": "stderr",
     "output_type": "stream",
     "text": [
      "100%|██████████| 1830/1830 [00:39<00:00, 46.71it/s]\n"
     ]
    },
    {
     "data": {
      "text/plain": [
       "{'hit_rate': 0.9398907103825137}"
      ]
     },
     "execution_count": 46,
     "metadata": {},
     "output_type": "execute_result"
    }
   ],
   "source": [
    "evaluate(ground_truth, elastic_search_knn)"
   ]
  }
 ],
 "metadata": {
  "kernelspec": {
   "display_name": ".venv",
   "language": "python",
   "name": "python3"
  },
  "language_info": {
   "codemirror_mode": {
    "name": "ipython",
    "version": 3
   },
   "file_extension": ".py",
   "mimetype": "text/x-python",
   "name": "python",
   "nbconvert_exporter": "python",
   "pygments_lexer": "ipython3",
   "version": "3.11.5"
  }
 },
 "nbformat": 4,
 "nbformat_minor": 2
}
